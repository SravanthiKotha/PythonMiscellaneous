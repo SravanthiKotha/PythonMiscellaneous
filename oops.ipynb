{
 "cells": [
  {
   "cell_type": "code",
   "execution_count": 28,
   "id": "9b7a8a48",
   "metadata": {},
   "outputs": [],
   "source": [
    "class Student:\n",
    "    def __init__(self): #__init__ is for initialization\n",
    "        self.name = \"name\"\n",
    "        print(self.name)"
   ]
  },
  {
   "cell_type": "code",
   "execution_count": 32,
   "id": "1b2f36f4",
   "metadata": {},
   "outputs": [
    {
     "name": "stdout",
     "output_type": "stream",
     "text": [
      "name\n",
      "Hai\n"
     ]
    }
   ],
   "source": [
    "s = Student()\n",
    "s.name = \"Hai\"\n",
    "print(s.name)"
   ]
  },
  {
   "cell_type": "code",
   "execution_count": 40,
   "id": "2159d5ad",
   "metadata": {},
   "outputs": [],
   "source": [
    "class Student:\n",
    "    def __init__(self): #__init__ is for initialization\n",
    "        self.name = \"name\"\n",
    "    def __str__(self):\n",
    "        return f\"{self.name}\""
   ]
  },
  {
   "cell_type": "code",
   "execution_count": 41,
   "id": "32d47060",
   "metadata": {},
   "outputs": [
    {
     "name": "stdout",
     "output_type": "stream",
     "text": [
      "name\n"
     ]
    }
   ],
   "source": [
    "s1 = Student()\n",
    "print(s1)"
   ]
  },
  {
   "cell_type": "code",
   "execution_count": 43,
   "id": "ccd8c669",
   "metadata": {},
   "outputs": [
    {
     "name": "stdout",
     "output_type": "stream",
     "text": [
      "GRADE\n"
     ]
    }
   ],
   "source": [
    "s1.name=\"GRADE\"\n",
    "print(s1)"
   ]
  },
  {
   "cell_type": "code",
   "execution_count": 47,
   "id": "9b94a84d",
   "metadata": {},
   "outputs": [],
   "source": [
    "class Student:\n",
    "    def __init__(self,name = \"Dummy\"): #__init__ is for initialization\n",
    "        self.name = name\n",
    "    def __str__(self):\n",
    "        return f\"{self.name}\""
   ]
  },
  {
   "cell_type": "code",
   "execution_count": 51,
   "id": "f97f4eb5",
   "metadata": {},
   "outputs": [],
   "source": [
    "s3 = Student()\n",
    "s4 = Student(\"Sravanthi\")"
   ]
  },
  {
   "cell_type": "code",
   "execution_count": 53,
   "id": "cfdf8052",
   "metadata": {},
   "outputs": [
    {
     "name": "stdout",
     "output_type": "stream",
     "text": [
      "Dummy\n",
      "Sravanthi\n"
     ]
    }
   ],
   "source": [
    "print(s3)\n",
    "print(s4)"
   ]
  },
  {
   "cell_type": "code",
   "execution_count": 61,
   "id": "29d13d05",
   "metadata": {},
   "outputs": [],
   "source": [
    "class animal:\n",
    "    counter = 0\n",
    "    def __init__(self, name):\n",
    "        animal.counter+=1\n",
    "        self.rollNum = animal.counter"
   ]
  },
  {
   "cell_type": "code",
   "execution_count": 63,
   "id": "f39ab3e3",
   "metadata": {},
   "outputs": [
    {
     "name": "stdout",
     "output_type": "stream",
     "text": [
      "3\n",
      "4\n"
     ]
    }
   ],
   "source": [
    "print(animal(\"a\").rollNum)\n",
    "print(animal(\"b\").rollNum)"
   ]
  },
  {
   "cell_type": "code",
   "execution_count": 70,
   "id": "be701b87",
   "metadata": {},
   "outputs": [],
   "source": [
    "class myClass:\n",
    "    def __init__(self,name):\n",
    "        self.name = name\n",
    "    def __str__(self):\n",
    "        return f\"Hello!!! I am {self.name}\"\n",
    "    def intro(self):\n",
    "        print(f\"Hello!!! I am {self.name} from intro\")"
   ]
  },
  {
   "cell_type": "code",
   "execution_count": 74,
   "id": "b3a7ce5f",
   "metadata": {},
   "outputs": [
    {
     "name": "stdout",
     "output_type": "stream",
     "text": [
      "Hello!!! I am Sravanthi\n",
      "Hello!!! I am Dummy from intro\n"
     ]
    }
   ],
   "source": [
    "myclass = myClass(\"Sravanthi\")\n",
    "myclass1 = myClass(\"Dummy\")\n",
    "\n",
    "print(myclass)\n",
    "\n",
    "myclass1.intro()\n"
   ]
  },
  {
   "cell_type": "code",
   "execution_count": 116,
   "id": "68021139",
   "metadata": {},
   "outputs": [],
   "source": [
    "class Account:\n",
    "    id = 0\n",
    "    def __init__(self, bal = 0):\n",
    "        Account.id +=1\n",
    "        self.bal = bal\n",
    "    def __str__(self):\n",
    "        return f\"Account {Account.id} has Rs. {self.bal}\"\n",
    "        "
   ]
  },
  {
   "cell_type": "code",
   "execution_count": 120,
   "id": "2e8c1682",
   "metadata": {},
   "outputs": [],
   "source": [
    "a1 = Account(100)\n"
   ]
  },
  {
   "cell_type": "code",
   "execution_count": 121,
   "id": "67b39bbe",
   "metadata": {},
   "outputs": [
    {
     "name": "stdout",
     "output_type": "stream",
     "text": [
      "Account 4 has Rs. 100\n",
      "Account 5 has Rs. 0\n"
     ]
    }
   ],
   "source": [
    "print(a1)\n",
    "a2 = Account()\n",
    "print(a2)"
   ]
  },
  {
   "cell_type": "code",
   "execution_count": null,
   "id": "e18718ae",
   "metadata": {},
   "outputs": [],
   "source": []
  }
 ],
 "metadata": {
  "kernelspec": {
   "display_name": "Python 3 (ipykernel)",
   "language": "python",
   "name": "python3"
  },
  "language_info": {
   "codemirror_mode": {
    "name": "ipython",
    "version": 3
   },
   "file_extension": ".py",
   "mimetype": "text/x-python",
   "name": "python",
   "nbconvert_exporter": "python",
   "pygments_lexer": "ipython3",
   "version": "3.9.12"
  }
 },
 "nbformat": 4,
 "nbformat_minor": 5
}
