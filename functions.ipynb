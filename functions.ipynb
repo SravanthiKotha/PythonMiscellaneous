{
 "cells": [
  {
   "cell_type": "code",
   "execution_count": 1,
   "id": "2df0fb7f",
   "metadata": {},
   "outputs": [],
   "source": [
    "def add(a,b):\n",
    "    return a+b"
   ]
  },
  {
   "cell_type": "code",
   "execution_count": 2,
   "id": "566ceff3",
   "metadata": {},
   "outputs": [
    {
     "data": {
      "text/plain": [
       "13"
      ]
     },
     "execution_count": 2,
     "metadata": {},
     "output_type": "execute_result"
    }
   ],
   "source": [
    "add(8,5)"
   ]
  },
  {
   "cell_type": "code",
   "execution_count": 3,
   "id": "be9c9a09",
   "metadata": {},
   "outputs": [],
   "source": [
    "def max(a,b):\n",
    "    if(a>b):\n",
    "        return a\n",
    "    else:\n",
    "        return b"
   ]
  },
  {
   "cell_type": "code",
   "execution_count": 4,
   "id": "a132f5a5",
   "metadata": {},
   "outputs": [
    {
     "data": {
      "text/plain": [
       "5"
      ]
     },
     "execution_count": 4,
     "metadata": {},
     "output_type": "execute_result"
    }
   ],
   "source": [
    "max(4,5)\n"
   ]
  },
  {
   "cell_type": "code",
   "execution_count": 8,
   "id": "07db7404",
   "metadata": {},
   "outputs": [
    {
     "name": "stdout",
     "output_type": "stream",
     "text": [
      "Hello,sir\n"
     ]
    }
   ],
   "source": [
    "def greet(name,message= \"Hello\"):\n",
    "    print(message + \",\" + name)\n",
    "\n",
    "greet(\"sir\")"
   ]
  },
  {
   "cell_type": "markdown",
   "id": "19c089cf",
   "metadata": {},
   "source": []
  },
  {
   "cell_type": "code",
   "execution_count": 15,
   "id": "87e4a2dc",
   "metadata": {},
   "outputs": [
    {
     "name": "stdout",
     "output_type": "stream",
     "text": [
      "key is: name and value is :Sravanthi\n",
      "key is: message and value is :Hello\n",
      "key is: a and value is :1\n",
      "key is: b and value is :2\n"
     ]
    }
   ],
   "source": [
    "def greet(**kwargs):\n",
    "    for a,b in ab.items():\n",
    "        print(\"key is: \"+a + \" and value is :\" +b)\n",
    "\n",
    "greet(name=\"Sravanthi\", message = \"Hello\")\n",
    "greet(a=\"1\",b=\"2\")"
   ]
  },
  {
   "cell_type": "code",
   "execution_count": 18,
   "id": "1ac3886f",
   "metadata": {},
   "outputs": [
    {
     "name": "stdout",
     "output_type": "stream",
     "text": [
      "2\n",
      "2\n"
     ]
    }
   ],
   "source": [
    "## Accessing a global variable\n",
    "\n",
    "i=1\n",
    "\n",
    "def modify():\n",
    "    global i\n",
    "    i= i +1\n",
    "    print(i)\n",
    "    \n",
    "modify()\n",
    "print(i)"
   ]
  },
  {
   "cell_type": "code",
   "execution_count": 21,
   "id": "367a0ea9",
   "metadata": {},
   "outputs": [
    {
     "name": "stdout",
     "output_type": "stream",
     "text": [
      "10.5\n"
     ]
    }
   ],
   "source": [
    "## Build-in functions\n",
    "\n",
    "####  abs() ####\n",
    "\n",
    "\n",
    "i=-10.5\n",
    "\n",
    "print(abs(i))"
   ]
  },
  {
   "cell_type": "code",
   "execution_count": 22,
   "id": "91c64cb2",
   "metadata": {},
   "outputs": [
    {
     "data": {
      "text/plain": [
       "True"
      ]
     },
     "execution_count": 22,
     "metadata": {},
     "output_type": "execute_result"
    }
   ],
   "source": [
    "### all ###\n",
    "\n",
    "## if a value in a list is False then all() will retrun False else True\n",
    "\n",
    "## False values in Python are None, False, 0\n",
    "\n",
    "list1 = [\"6\", 1, \"Pyhton\", -5, 4.5]\n",
    "\n",
    "all(list1)"
   ]
  },
  {
   "cell_type": "code",
   "execution_count": 23,
   "id": "2811f8dc",
   "metadata": {},
   "outputs": [
    {
     "data": {
      "text/plain": [
       "False"
      ]
     },
     "execution_count": 23,
     "metadata": {},
     "output_type": "execute_result"
    }
   ],
   "source": [
    "list1 = [\"6\", 1, 0,\"Pyhton\", -5, 4.5]\n",
    "\n",
    "all(list1)"
   ]
  },
  {
   "cell_type": "code",
   "execution_count": 27,
   "id": "4be014ee",
   "metadata": {},
   "outputs": [
    {
     "data": {
      "text/plain": [
       "['__add__',\n",
       " '__class__',\n",
       " '__class_getitem__',\n",
       " '__contains__',\n",
       " '__delattr__',\n",
       " '__dir__',\n",
       " '__doc__',\n",
       " '__eq__',\n",
       " '__format__',\n",
       " '__ge__',\n",
       " '__getattribute__',\n",
       " '__getitem__',\n",
       " '__getnewargs__',\n",
       " '__gt__',\n",
       " '__hash__',\n",
       " '__init__',\n",
       " '__init_subclass__',\n",
       " '__iter__',\n",
       " '__le__',\n",
       " '__len__',\n",
       " '__lt__',\n",
       " '__mul__',\n",
       " '__ne__',\n",
       " '__new__',\n",
       " '__reduce__',\n",
       " '__reduce_ex__',\n",
       " '__repr__',\n",
       " '__rmul__',\n",
       " '__setattr__',\n",
       " '__sizeof__',\n",
       " '__str__',\n",
       " '__subclasshook__',\n",
       " 'count',\n",
       " 'index']"
      ]
     },
     "execution_count": 27,
     "metadata": {},
     "output_type": "execute_result"
    }
   ],
   "source": [
    "## dir()\n",
    "\n",
    "myTuple = (\"t\",\"l\", \"re\")\n",
    "\n",
    "dir(myTuple)"
   ]
  },
  {
   "cell_type": "code",
   "execution_count": 28,
   "id": "bc755234",
   "metadata": {},
   "outputs": [
    {
     "data": {
      "text/plain": [
       "tuple"
      ]
     },
     "execution_count": 28,
     "metadata": {},
     "output_type": "execute_result"
    }
   ],
   "source": [
    "type(myTuple)"
   ]
  },
  {
   "cell_type": "code",
   "execution_count": 41,
   "id": "0e172c3f",
   "metadata": {},
   "outputs": [
    {
     "data": {
      "text/plain": [
       "set"
      ]
     },
     "execution_count": 41,
     "metadata": {},
     "output_type": "execute_result"
    }
   ],
   "source": [
    "myset = {\"a\",2,3,4,5}\n",
    "\n",
    "type(myset)"
   ]
  },
  {
   "cell_type": "code",
   "execution_count": 42,
   "id": "bbeab918",
   "metadata": {},
   "outputs": [
    {
     "name": "stdout",
     "output_type": "stream",
     "text": [
      "0 a\n",
      "1 2\n",
      "2 3\n",
      "3 4\n",
      "4 5\n"
     ]
    }
   ],
   "source": [
    "for index, value in enumerate(myset):\n",
    "    print(index,value)"
   ]
  },
  {
   "cell_type": "code",
   "execution_count": 43,
   "id": "723857f9",
   "metadata": {},
   "outputs": [
    {
     "name": "stdout",
     "output_type": "stream",
     "text": [
      "0 S\n",
      "1 r\n",
      "2 a\n",
      "3 v\n",
      "4 a\n",
      "5 n\n",
      "6 t\n",
      "7 h\n",
      "8 i\n"
     ]
    }
   ],
   "source": [
    "str = \"Sravanthi\"\n",
    "\n",
    "for index,char in enumerate(str):\n",
    "    print(index , char)"
   ]
  },
  {
   "cell_type": "code",
   "execution_count": 44,
   "id": "e1cee3c6",
   "metadata": {},
   "outputs": [
    {
     "name": "stdout",
     "output_type": "stream",
     "text": [
      "1 S\n",
      "2 r\n",
      "3 a\n",
      "4 v\n",
      "5 a\n",
      "6 n\n",
      "7 t\n",
      "8 h\n",
      "9 i\n"
     ]
    }
   ],
   "source": [
    "for index,char in enumerate(str, start=1):\n",
    "    print(index , char)"
   ]
  },
  {
   "cell_type": "code",
   "execution_count": 53,
   "id": "4fb0495d",
   "metadata": {},
   "outputs": [
    {
     "name": "stdout",
     "output_type": "stream",
     "text": [
      "[(1, 'a'), (2, 'b'), (3, 'c')]\n"
     ]
    },
    {
     "data": {
      "text/plain": [
       "list"
      ]
     },
     "execution_count": 53,
     "metadata": {},
     "output_type": "execute_result"
    }
   ],
   "source": [
    "## Zip()\n",
    "\n",
    "list1 = [1,2,3]\n",
    "list2 = [\"a\",\"b\",\"c\"]\n",
    "\n",
    "zipped = list(zip(list1,list2))\n",
    "\n",
    "print(zipped)\n",
    "type(zipped)"
   ]
  },
  {
   "cell_type": "code",
   "execution_count": 55,
   "id": "edbd48dc",
   "metadata": {},
   "outputs": [
    {
     "name": "stdout",
     "output_type": "stream",
     "text": [
      "{(3, 'c'), (2, 'b'), (1, 'a')}\n"
     ]
    },
    {
     "data": {
      "text/plain": [
       "set"
      ]
     },
     "execution_count": 55,
     "metadata": {},
     "output_type": "execute_result"
    }
   ],
   "source": [
    "list1 = [1,2,3,4,5,6]\n",
    "list2 = [\"a\",\"b\",\"c\"]\n",
    "\n",
    "zipped = set(zip(list1,list2))\n",
    "\n",
    "print(zipped)\n",
    "type(zipped)"
   ]
  },
  {
   "cell_type": "code",
   "execution_count": 67,
   "id": "a5d1c0c6",
   "metadata": {},
   "outputs": [
    {
     "name": "stdout",
     "output_type": "stream",
     "text": [
      "list\n",
      "[-10, -9, -8, -7, -6, -5, -4, -3, -2, -1, 0, 1, 2, 3, 4, 5, 6, 7, 8, 9]\n",
      "Filtered list\n",
      "[1, 2, 3, 4, 5, 6, 7, 8, 9]\n",
      "Filtered Range\n",
      "[1, 2, 3, 4, 5, 6, 7, 8, 9]\n"
     ]
    }
   ],
   "source": [
    "## filter() ###\n",
    "\n",
    "def find_positive(num):\n",
    "    if(num>0):\n",
    "        return num\n",
    "\n",
    "    \n",
    "list1 = list(range(-10,10))\n",
    "\n",
    "print(\"list\")\n",
    "print(list1)\n",
    "\n",
    "print(\"Filtered list\")\n",
    "print(list(filter(find_positive,list1)))\n",
    "\n",
    "print(\"Filtered Range\")\n",
    "print(list(filter(find_positive,range(-10,10))))"
   ]
  },
  {
   "cell_type": "code",
   "execution_count": 68,
   "id": "8aea3d19",
   "metadata": {},
   "outputs": [
    {
     "name": "stdout",
     "output_type": "stream",
     "text": [
      "True\n",
      "True\n"
     ]
    }
   ],
   "source": [
    "lst = [1,2,3,4]\n",
    "\n",
    "print(isinstance(lst,list))\n",
    "\n",
    "print(type(lst)==list)"
   ]
  },
  {
   "cell_type": "code",
   "execution_count": 72,
   "id": "2293d5a5",
   "metadata": {},
   "outputs": [
    {
     "name": "stdout",
     "output_type": "stream",
     "text": [
      "[1, 4, 9, 16, 25, 36, 49, 64, 81, 100]\n",
      "[None, None, None, None, None, None, None, None, None, None, None, 1, 2, 3, 4, 5, 6, 7, 8, 9]\n"
     ]
    }
   ],
   "source": [
    "## map ###\n",
    "\n",
    "myList1 = list(range(1,11))\n",
    "\n",
    "def squared(num):\n",
    "    return num * num\n",
    "\n",
    "\n",
    "print(list(map(squared,myList1)))\n",
    "\n",
    "print(list(map(find_positive,list1)))"
   ]
  },
  {
   "cell_type": "code",
   "execution_count": 85,
   "id": "a5e9321b",
   "metadata": {},
   "outputs": [
    {
     "data": {
      "text/plain": [
       "8"
      ]
     },
     "execution_count": 85,
     "metadata": {},
     "output_type": "execute_result"
    }
   ],
   "source": [
    "## reduce ##\n",
    "\n",
    "def diff(num1,num2):\n",
    "    return num2 - num1\n",
    "    \n",
    "from  functools import reduce\n",
    "\n",
    "listR = list(range(7,10))\n",
    "\n",
    "reduced = reduce(diff, listR)\n",
    "\n",
    "reduced"
   ]
  },
  {
   "cell_type": "code",
   "execution_count": 87,
   "id": "d3049728",
   "metadata": {},
   "outputs": [
    {
     "name": "stdout",
     "output_type": "stream",
     "text": [
      "{64, 49, 81}\n"
     ]
    }
   ],
   "source": [
    "## lambda ##\n",
    "\n",
    "print(set(map(lambda num:num**2, listR)))"
   ]
  },
  {
   "cell_type": "code",
   "execution_count": 91,
   "id": "4948cadd",
   "metadata": {},
   "outputs": [
    {
     "name": "stdout",
     "output_type": "stream",
     "text": [
      "Factorial of 7 is 5040\n"
     ]
    }
   ],
   "source": [
    "######### Recursive functions #######\n",
    "\n",
    "# A function call itself is a recurssive functions\n",
    "\n",
    "def factorial(num):\n",
    "    if num==1:\n",
    "        return 1\n",
    "    else:\n",
    "        return (num * factorial(num-1))\n",
    "num =7\n",
    "print(\"Factorial of {0} is {1}\".format(num,factorial(num)))"
   ]
  },
  {
   "cell_type": "code",
   "execution_count": 102,
   "id": "6d9807fb",
   "metadata": {},
   "outputs": [
    {
     "data": {
      "text/plain": [
       "120"
      ]
     },
     "execution_count": 102,
     "metadata": {},
     "output_type": "execute_result"
    }
   ],
   "source": [
    "\n",
    "def factorial(num):\n",
    "    temp = 1\n",
    "    while(num>=1):\n",
    "        temp = num * temp\n",
    "        num = num-1\n",
    "    return temp\n",
    "\n",
    "factorial(5)\n",
    "    \n",
    "    "
   ]
  },
  {
   "cell_type": "code",
   "execution_count": 2,
   "id": "9a092c08",
   "metadata": {},
   "outputs": [
    {
     "data": {
      "text/plain": [
       "([1, 2, 3, 3, 4, 5, 1, 2, 3], [1, 2, 3, 4, 5])"
      ]
     },
     "execution_count": 2,
     "metadata": {},
     "output_type": "execute_result"
    }
   ],
   "source": [
    "li = [1,2,3,3,4,5,1,2,3]\n",
    "\n",
    "li1 = list(set(li))\n",
    "\n",
    "li,li1"
   ]
  },
  {
   "cell_type": "code",
   "execution_count": 3,
   "id": "38042878",
   "metadata": {},
   "outputs": [
    {
     "ename": "TypeError",
     "evalue": "unsupported operand type(s) for -: 'list' and 'list'",
     "output_type": "error",
     "traceback": [
      "\u001b[1;31m---------------------------------------------------------------------------\u001b[0m",
      "\u001b[1;31mTypeError\u001b[0m                                 Traceback (most recent call last)",
      "Input \u001b[1;32mIn [3]\u001b[0m, in \u001b[0;36m<cell line: 1>\u001b[1;34m()\u001b[0m\n\u001b[1;32m----> 1\u001b[0m \u001b[43mli\u001b[49m\u001b[43m \u001b[49m\u001b[38;5;241;43m-\u001b[39;49m\u001b[43m \u001b[49m\u001b[43mli1\u001b[49m\n",
      "\u001b[1;31mTypeError\u001b[0m: unsupported operand type(s) for -: 'list' and 'list'"
     ]
    }
   ],
   "source": [
    "\n"
   ]
  },
  {
   "cell_type": "code",
   "execution_count": null,
   "id": "7bf16438",
   "metadata": {},
   "outputs": [],
   "source": []
  }
 ],
 "metadata": {
  "kernelspec": {
   "display_name": "Python 3 (ipykernel)",
   "language": "python",
   "name": "python3"
  },
  "language_info": {
   "codemirror_mode": {
    "name": "ipython",
    "version": 3
   },
   "file_extension": ".py",
   "mimetype": "text/x-python",
   "name": "python",
   "nbconvert_exporter": "python",
   "pygments_lexer": "ipython3",
   "version": "3.9.12"
  }
 },
 "nbformat": 4,
 "nbformat_minor": 5
}
