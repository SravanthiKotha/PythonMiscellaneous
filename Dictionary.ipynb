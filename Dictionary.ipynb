{
 "cells": [
  {
   "cell_type": "code",
   "execution_count": 1,
   "id": "81c8692b",
   "metadata": {},
   "outputs": [],
   "source": [
    "multi_dict={\"name\":\"sravanthi\",\"age\":35,\"id\":73,\"city\":\"hyderabad\",1:10,2:\"Roll no.\"}"
   ]
  },
  {
   "cell_type": "code",
   "execution_count": 2,
   "id": "0a8a5d40",
   "metadata": {},
   "outputs": [
    {
     "data": {
      "text/plain": [
       "{'name': 'sravanthi',\n",
       " 'age': 35,\n",
       " 'id': 73,\n",
       " 'city': 'hyderabad',\n",
       " 1: 10,\n",
       " 2: 'Roll no.'}"
      ]
     },
     "execution_count": 2,
     "metadata": {},
     "output_type": "execute_result"
    }
   ],
   "source": [
    "multi_dict\n"
   ]
  },
  {
   "cell_type": "code",
   "execution_count": 3,
   "id": "ba1e7a25",
   "metadata": {},
   "outputs": [
    {
     "data": {
      "text/plain": [
       "['__class__',\n",
       " '__class_getitem__',\n",
       " '__contains__',\n",
       " '__delattr__',\n",
       " '__delitem__',\n",
       " '__dir__',\n",
       " '__doc__',\n",
       " '__eq__',\n",
       " '__format__',\n",
       " '__ge__',\n",
       " '__getattribute__',\n",
       " '__getitem__',\n",
       " '__gt__',\n",
       " '__hash__',\n",
       " '__init__',\n",
       " '__init_subclass__',\n",
       " '__ior__',\n",
       " '__iter__',\n",
       " '__le__',\n",
       " '__len__',\n",
       " '__lt__',\n",
       " '__ne__',\n",
       " '__new__',\n",
       " '__or__',\n",
       " '__reduce__',\n",
       " '__reduce_ex__',\n",
       " '__repr__',\n",
       " '__reversed__',\n",
       " '__ror__',\n",
       " '__setattr__',\n",
       " '__setitem__',\n",
       " '__sizeof__',\n",
       " '__str__',\n",
       " '__subclasshook__',\n",
       " 'clear',\n",
       " 'copy',\n",
       " 'fromkeys',\n",
       " 'get',\n",
       " 'items',\n",
       " 'keys',\n",
       " 'pop',\n",
       " 'popitem',\n",
       " 'setdefault',\n",
       " 'update',\n",
       " 'values']"
      ]
     },
     "execution_count": 3,
     "metadata": {},
     "output_type": "execute_result"
    }
   ],
   "source": [
    "dir(multi_dict)\n"
   ]
  },
  {
   "cell_type": "code",
   "execution_count": 4,
   "id": "2ff22df3",
   "metadata": {},
   "outputs": [
    {
     "data": {
      "text/plain": [
       "dict_keys(['name', 'age', 'id', 'city', 1, 2])"
      ]
     },
     "execution_count": 4,
     "metadata": {},
     "output_type": "execute_result"
    }
   ],
   "source": [
    "multi_dict.keys()\n"
   ]
  },
  {
   "cell_type": "code",
   "execution_count": 5,
   "id": "47f26986",
   "metadata": {},
   "outputs": [
    {
     "data": {
      "text/plain": [
       "dict_values(['sravanthi', 35, 73, 'hyderabad', 10, 'Roll no.'])"
      ]
     },
     "execution_count": 5,
     "metadata": {},
     "output_type": "execute_result"
    }
   ],
   "source": [
    "multi_dict.values()"
   ]
  },
  {
   "cell_type": "code",
   "execution_count": 6,
   "id": "b9729494",
   "metadata": {},
   "outputs": [
    {
     "ename": "SyntaxError",
     "evalue": "invalid syntax (457409248.py, line 1)",
     "output_type": "error",
     "traceback": [
      "\u001b[1;36m  Input \u001b[1;32mIn [6]\u001b[1;36m\u001b[0m\n\u001b[1;33m    multi_dict.add(\"hobbies\":[\"art\",\"reading\"])\u001b[0m\n\u001b[1;37m                            ^\u001b[0m\n\u001b[1;31mSyntaxError\u001b[0m\u001b[1;31m:\u001b[0m invalid syntax\n"
     ]
    }
   ],
   "source": [
    "multi_dict.add(\"hobbies\":[\"art\",\"reading\"])"
   ]
  },
  {
   "cell_type": "code",
   "execution_count": 7,
   "id": "7e1f1323",
   "metadata": {},
   "outputs": [
    {
     "ename": "AttributeError",
     "evalue": "'dict' object has no attribute 'add'",
     "output_type": "error",
     "traceback": [
      "\u001b[1;31m---------------------------------------------------------------------------\u001b[0m",
      "\u001b[1;31mAttributeError\u001b[0m                            Traceback (most recent call last)",
      "Input \u001b[1;32mIn [7]\u001b[0m, in \u001b[0;36m<cell line: 1>\u001b[1;34m()\u001b[0m\n\u001b[1;32m----> 1\u001b[0m \u001b[43mmulti_dict\u001b[49m\u001b[38;5;241;43m.\u001b[39;49m\u001b[43madd\u001b[49m(\u001b[38;5;124m\"\u001b[39m\u001b[38;5;124mhobbies\u001b[39m\u001b[38;5;124m\"\u001b[39m)\n",
      "\u001b[1;31mAttributeError\u001b[0m: 'dict' object has no attribute 'add'"
     ]
    }
   ],
   "source": [
    "multi_dict.add(\"hobbies\")"
   ]
  },
  {
   "cell_type": "code",
   "execution_count": 8,
   "id": "ac671e67",
   "metadata": {},
   "outputs": [
    {
     "data": {
      "text/plain": [
       "'Roll no.'"
      ]
     },
     "execution_count": 8,
     "metadata": {},
     "output_type": "execute_result"
    }
   ],
   "source": [
    "multi_dict[2]"
   ]
  },
  {
   "cell_type": "code",
   "execution_count": 9,
   "id": "1145fd7b",
   "metadata": {},
   "outputs": [],
   "source": [
    "multi_dict[\"hobbies\"]=[\"art\",\"reading\"]"
   ]
  },
  {
   "cell_type": "code",
   "execution_count": 10,
   "id": "f4fdb113",
   "metadata": {},
   "outputs": [
    {
     "data": {
      "text/plain": [
       "{'name': 'sravanthi',\n",
       " 'age': 35,\n",
       " 'id': 73,\n",
       " 'city': 'hyderabad',\n",
       " 1: 10,\n",
       " 2: 'Roll no.',\n",
       " 'hobbies': ['art', 'reading']}"
      ]
     },
     "execution_count": 10,
     "metadata": {},
     "output_type": "execute_result"
    }
   ],
   "source": [
    "multi_dict\n"
   ]
  },
  {
   "cell_type": "code",
   "execution_count": 11,
   "id": "037d3727",
   "metadata": {},
   "outputs": [
    {
     "data": {
      "text/plain": [
       "['art', 'reading']"
      ]
     },
     "execution_count": 11,
     "metadata": {},
     "output_type": "execute_result"
    }
   ],
   "source": [
    "multi_dict[\"hobbies\"]"
   ]
  },
  {
   "cell_type": "code",
   "execution_count": 12,
   "id": "aa0f2b8d",
   "metadata": {},
   "outputs": [
    {
     "data": {
      "text/plain": [
       "<function dict.get(key, default=None, /)>"
      ]
     },
     "execution_count": 12,
     "metadata": {},
     "output_type": "execute_result"
    }
   ],
   "source": [
    "multi_dict.get\n"
   ]
  },
  {
   "cell_type": "code",
   "execution_count": 13,
   "id": "7df269d8",
   "metadata": {},
   "outputs": [],
   "source": [
    "multi_dict.get(\"Start Menu\")"
   ]
  },
  {
   "cell_type": "code",
   "execution_count": 16,
   "id": "6696e075",
   "metadata": {},
   "outputs": [
    {
     "data": {
      "text/plain": [
       "{'name': 'sravanthi',\n",
       " 'age': 35,\n",
       " 'id': 73,\n",
       " 'city': 'hyderabad',\n",
       " 1: 10,\n",
       " 2: 'Roll no.',\n",
       " 'hobbies': ['art', 'reading'],\n",
       " 'history': {'10th': '80%', 'inter': '90%', 'degree': '70%'}}"
      ]
     },
     "execution_count": 16,
     "metadata": {},
     "output_type": "execute_result"
    }
   ],
   "source": [
    "multi_dict[\"history\"]={\"10th\":\"80%\", \"inter\":\"90%\", \"degree\":\"70%\"}\n",
    "\n",
    "multi_dict"
   ]
  },
  {
   "cell_type": "markdown",
   "id": "846c061b",
   "metadata": {},
   "source": []
  },
  {
   "cell_type": "code",
   "execution_count": 20,
   "id": "5389367a",
   "metadata": {},
   "outputs": [
    {
     "data": {
      "text/plain": [
       "{'name': 'sravanthi',\n",
       " 'age': 35,\n",
       " 'id': 73,\n",
       " 'city': 'hyderabad',\n",
       " 1: 10,\n",
       " 2: 'Roll no.',\n",
       " 'hobbies': ['art', 'reading'],\n",
       " 'history': {'10th': '80%', 'inter': '90%', 'degree': '70%'}}"
      ]
     },
     "execution_count": 20,
     "metadata": {},
     "output_type": "execute_result"
    }
   ],
   "source": [
    "multi_dict.update()\n",
    "\n",
    "multi_dict"
   ]
  },
  {
   "cell_type": "code",
   "execution_count": 21,
   "id": "f17aa230",
   "metadata": {},
   "outputs": [],
   "source": [
    "dict1 = {\"a\":1,\"b\":2,\"c\":3}"
   ]
  },
  {
   "cell_type": "code",
   "execution_count": 22,
   "id": "9d393ca3",
   "metadata": {},
   "outputs": [],
   "source": [
    "multi_dict.update(dict1)"
   ]
  },
  {
   "cell_type": "code",
   "execution_count": 23,
   "id": "03cf446c",
   "metadata": {},
   "outputs": [
    {
     "data": {
      "text/plain": [
       "{'name': 'sravanthi',\n",
       " 'age': 35,\n",
       " 'id': 73,\n",
       " 'city': 'hyderabad',\n",
       " 1: 10,\n",
       " 2: 'Roll no.',\n",
       " 'hobbies': ['art', 'reading'],\n",
       " 'history': {'10th': '80%', 'inter': '90%', 'degree': '70%'},\n",
       " 'a': 1,\n",
       " 'b': 2,\n",
       " 'c': 3}"
      ]
     },
     "execution_count": 23,
     "metadata": {},
     "output_type": "execute_result"
    }
   ],
   "source": [
    "multi_dict"
   ]
  },
  {
   "cell_type": "code",
   "execution_count": 38,
   "id": "cc7147dc",
   "metadata": {},
   "outputs": [
    {
     "data": {
      "text/plain": [
       "10"
      ]
     },
     "execution_count": 38,
     "metadata": {},
     "output_type": "execute_result"
    }
   ],
   "source": [
    "len(multi_dict.keys())"
   ]
  },
  {
   "cell_type": "markdown",
   "id": "f7cbd847",
   "metadata": {},
   "source": []
  },
  {
   "cell_type": "code",
   "execution_count": 37,
   "id": "8c81cd6e",
   "metadata": {},
   "outputs": [
    {
     "data": {
      "text/plain": [
       "2"
      ]
     },
     "execution_count": 37,
     "metadata": {},
     "output_type": "execute_result"
    }
   ],
   "source": [
    "multi_dict.pop(\"b\")\n"
   ]
  },
  {
   "cell_type": "code",
   "execution_count": 39,
   "id": "6851aaf2",
   "metadata": {},
   "outputs": [
    {
     "data": {
      "text/plain": [
       "{'name': 'sravanthi',\n",
       " 'age': 35,\n",
       " 'id': 73,\n",
       " 'city': 'hyderabad',\n",
       " 1: 10,\n",
       " 2: 'Roll no.',\n",
       " 'hobbies': ['art', 'reading'],\n",
       " 'history': {'10th': '80%', 'inter': '90%', 'degree': '70%'},\n",
       " 'a': 1,\n",
       " 'c': 3}"
      ]
     },
     "execution_count": 39,
     "metadata": {},
     "output_type": "execute_result"
    }
   ],
   "source": [
    "multi_dict"
   ]
  },
  {
   "cell_type": "code",
   "execution_count": 40,
   "id": "22708795",
   "metadata": {},
   "outputs": [
    {
     "data": {
      "text/plain": [
       "('c', 3)"
      ]
     },
     "execution_count": 40,
     "metadata": {},
     "output_type": "execute_result"
    }
   ],
   "source": [
    "multi_dict.popitem()"
   ]
  },
  {
   "cell_type": "code",
   "execution_count": 41,
   "id": "95311bfc",
   "metadata": {},
   "outputs": [],
   "source": [
    "multi_dict[\"c\"]=3"
   ]
  },
  {
   "cell_type": "code",
   "execution_count": 42,
   "id": "3d6e9b61",
   "metadata": {},
   "outputs": [
    {
     "data": {
      "text/plain": [
       "{'name': 'sravanthi',\n",
       " 'age': 35,\n",
       " 'id': 73,\n",
       " 'city': 'hyderabad',\n",
       " 1: 10,\n",
       " 2: 'Roll no.',\n",
       " 'hobbies': ['art', 'reading'],\n",
       " 'history': {'10th': '80%', 'inter': '90%', 'degree': '70%'},\n",
       " 'a': 1,\n",
       " 'c': 3}"
      ]
     },
     "execution_count": 42,
     "metadata": {},
     "output_type": "execute_result"
    }
   ],
   "source": [
    "multi_dict"
   ]
  },
  {
   "cell_type": "code",
   "execution_count": 43,
   "id": "6f490db9",
   "metadata": {},
   "outputs": [
    {
     "data": {
      "text/plain": [
       "('c', 3)"
      ]
     },
     "execution_count": 43,
     "metadata": {},
     "output_type": "execute_result"
    }
   ],
   "source": [
    "multi_dict.popitem()"
   ]
  },
  {
   "cell_type": "code",
   "execution_count": 44,
   "id": "c733e776",
   "metadata": {},
   "outputs": [
    {
     "data": {
      "text/plain": [
       "9"
      ]
     },
     "execution_count": 44,
     "metadata": {},
     "output_type": "execute_result"
    }
   ],
   "source": [
    "len(multi_dict.items())"
   ]
  },
  {
   "cell_type": "code",
   "execution_count": 47,
   "id": "05f64fba",
   "metadata": {},
   "outputs": [],
   "source": [
    "del multi_dict[\"age\"]"
   ]
  },
  {
   "cell_type": "code",
   "execution_count": 48,
   "id": "88b1beba",
   "metadata": {},
   "outputs": [
    {
     "data": {
      "text/plain": [
       "8"
      ]
     },
     "execution_count": 48,
     "metadata": {},
     "output_type": "execute_result"
    }
   ],
   "source": [
    "len(multi_dict)"
   ]
  },
  {
   "cell_type": "code",
   "execution_count": 49,
   "id": "c9085d5b",
   "metadata": {},
   "outputs": [],
   "source": [
    "dup_valuesDic = {\"user1\":\"yes\",\"user2\":\"no\",\"user3\":\"yes\",\"user4\":\"no\",\"user5\":\"no\",\"user6\":\"yes\"}"
   ]
  },
  {
   "cell_type": "code",
   "execution_count": 54,
   "id": "87f4a42d",
   "metadata": {},
   "outputs": [
    {
     "data": {
      "text/plain": [
       "Counter({'yes': 3, 'no': 3})"
      ]
     },
     "execution_count": 54,
     "metadata": {},
     "output_type": "execute_result"
    }
   ],
   "source": [
    "Counter(dup_valuesDic.values())"
   ]
  },
  {
   "cell_type": "code",
   "execution_count": 58,
   "id": "86163b0a",
   "metadata": {},
   "outputs": [],
   "source": [
    "#copy() will copies a dictionary\n"
   ]
  },
  {
   "cell_type": "code",
   "execution_count": 60,
   "id": "12fae9f3",
   "metadata": {},
   "outputs": [],
   "source": [
    "marks ={}.fromkeys([\"Maths\", \"science\", \"physics\"],98)"
   ]
  },
  {
   "cell_type": "code",
   "execution_count": 61,
   "id": "c27aaf09",
   "metadata": {},
   "outputs": [
    {
     "data": {
      "text/plain": [
       "{'Maths': 98, 'science': 98, 'physics': 98}"
      ]
     },
     "execution_count": 61,
     "metadata": {},
     "output_type": "execute_result"
    }
   ],
   "source": [
    "marks"
   ]
  },
  {
   "cell_type": "code",
   "execution_count": 62,
   "id": "4cf7bddc",
   "metadata": {},
   "outputs": [],
   "source": [
    "marks.update({}.fromkeys([\"telugu\",\"Hindi\",\"English\"],\"80\"))"
   ]
  },
  {
   "cell_type": "code",
   "execution_count": 63,
   "id": "a5cce238",
   "metadata": {},
   "outputs": [
    {
     "data": {
      "text/plain": [
       "{'Maths': 98,\n",
       " 'science': 98,\n",
       " 'physics': 98,\n",
       " 'telugu': '80',\n",
       " 'Hindi': '80',\n",
       " 'English': '80'}"
      ]
     },
     "execution_count": 63,
     "metadata": {},
     "output_type": "execute_result"
    }
   ],
   "source": [
    "marks"
   ]
  },
  {
   "cell_type": "code",
   "execution_count": null,
   "id": "3aacf11c",
   "metadata": {},
   "outputs": [],
   "source": []
  }
 ],
 "metadata": {
  "kernelspec": {
   "display_name": "Python 3 (ipykernel)",
   "language": "python",
   "name": "python3"
  },
  "language_info": {
   "codemirror_mode": {
    "name": "ipython",
    "version": 3
   },
   "file_extension": ".py",
   "mimetype": "text/x-python",
   "name": "python",
   "nbconvert_exporter": "python",
   "pygments_lexer": "ipython3",
   "version": "3.9.12"
  }
 },
 "nbformat": 4,
 "nbformat_minor": 5
}
