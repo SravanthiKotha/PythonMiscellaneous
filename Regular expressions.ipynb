{
 "cells": [
  {
   "cell_type": "code",
   "execution_count": 1,
   "id": "96520b0e",
   "metadata": {},
   "outputs": [
    {
     "data": {
      "text/plain": [
       "['0', '2', '9', '1']"
      ]
     },
     "execution_count": 1,
     "metadata": {},
     "output_type": "execute_result"
    }
   ],
   "source": [
    "import re\n",
    "\n",
    "lst = re.findall('[0-9]','0@kM29-1')\n",
    "\n",
    "lst"
   ]
  },
  {
   "cell_type": "code",
   "execution_count": 2,
   "id": "3f347432",
   "metadata": {},
   "outputs": [
    {
     "name": "stdout",
     "output_type": "stream",
     "text": [
      "{'8', '2', '5', '0', '3', '1', '4'}\n"
     ]
    }
   ],
   "source": [
    "s = 'dlnskfndskhfjdhfkjdskvlkmvlkdfjl243204032nfkdnt3t435p4350345820124,,n,n35334532'\n",
    "\n",
    "lst = re.findall('[0-9]',s)\n",
    "\n",
    "print(set(lst))"
   ]
  },
  {
   "cell_type": "code",
   "execution_count": 32,
   "id": "7140c3b0",
   "metadata": {},
   "outputs": [],
   "source": [
    "doc = \"dkghkdfhgkfhk abc@gmail.com jlfldjfhksbjsfsfchsabcsabj kan123@outlook.com ufuguwdgfjdsbcjgyuvg  fjdfjds@outlook@outlo jsdgf srv@yahoo.com jdgsfj\""
   ]
  },
  {
   "cell_type": "code",
   "execution_count": 37,
   "id": "a7463ee0",
   "metadata": {},
   "outputs": [
    {
     "name": "stdout",
     "output_type": "stream",
     "text": [
      "['abc@gmail.com', 'kan123@outlook.com', 'srv@yahoo.com']\n"
     ]
    }
   ],
   "source": [
    "regex = '[a-zA-z0-9_.]+@[a-zA-Z0-9]+[.][?:com|co.in|in]+'\n",
    "\n",
    "lst = re.findall(regex,doc)\n",
    "\n",
    "print(lst)"
   ]
  },
  {
   "cell_type": "code",
   "execution_count": null,
   "id": "ed32b610",
   "metadata": {},
   "outputs": [],
   "source": []
  }
 ],
 "metadata": {
  "kernelspec": {
   "display_name": "Python 3 (ipykernel)",
   "language": "python",
   "name": "python3"
  },
  "language_info": {
   "codemirror_mode": {
    "name": "ipython",
    "version": 3
   },
   "file_extension": ".py",
   "mimetype": "text/x-python",
   "name": "python",
   "nbconvert_exporter": "python",
   "pygments_lexer": "ipython3",
   "version": "3.9.12"
  }
 },
 "nbformat": 4,
 "nbformat_minor": 5
}
