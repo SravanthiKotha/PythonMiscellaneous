{
 "cells": [
  {
   "cell_type": "code",
   "execution_count": 2,
   "id": "dc4c4bfb",
   "metadata": {},
   "outputs": [
    {
     "data": {
      "text/plain": [
       "[1, 4, 9, 16, 25]"
      ]
     },
     "execution_count": 2,
     "metadata": {},
     "output_type": "execute_result"
    }
   ],
   "source": [
    "lst = []\n",
    "\n",
    "for i in range(1,6):\n",
    "    lst.append(i**2)\n",
    "    \n",
    "lst"
   ]
  },
  {
   "cell_type": "code",
   "execution_count": 4,
   "id": "6c8fbb4b",
   "metadata": {},
   "outputs": [
    {
     "data": {
      "text/plain": [
       "[1, 4, 9, 16, 25]"
      ]
     },
     "execution_count": 4,
     "metadata": {},
     "output_type": "execute_result"
    }
   ],
   "source": [
    "lst=[i*i for i in range(1,6)]\n",
    "\n",
    "lst"
   ]
  },
  {
   "cell_type": "code",
   "execution_count": 5,
   "id": "2cbd522c",
   "metadata": {},
   "outputs": [
    {
     "data": {
      "text/plain": [
       "[1, 4, 9, 16, 25]"
      ]
     },
     "execution_count": 5,
     "metadata": {},
     "output_type": "execute_result"
    }
   ],
   "source": [
    "lst=[i**2 for i in range(1,6)]\n",
    "\n",
    "lst"
   ]
  },
  {
   "cell_type": "code",
   "execution_count": 9,
   "id": "cae154bb",
   "metadata": {},
   "outputs": [
    {
     "name": "stdout",
     "output_type": "stream",
     "text": [
      "[0, 2, 4, 6, 8, 10, 12, 14, 16, 18, 20, 22, 24, 26, 28, 30, 32, 34, 36, 38, 40, 42, 44, 46, 48, 50, 52, 54, 56, 58, 60, 62, 64, 66, 68, 70, 72, 74, 76, 78, 80, 82, 84, 86, 88, 90, 92, 94, 96, 98, 100, 102, 104, 106, 108, 110, 112, 114, 116, 118, 120, 122, 124, 126, 128, 130, 132, 134, 136, 138, 140, 142, 144, 146, 148, 150, 152, 154, 156, 158, 160, 162, 164, 166, 168, 170, 172, 174, 176, 178, 180, 182, 184, 186, 188, 190, 192, 194, 196, 198]\n"
     ]
    }
   ],
   "source": [
    "lst = [i*2 for i in range(100)]\n",
    "\n",
    "print(lst)"
   ]
  },
  {
   "cell_type": "code",
   "execution_count": 10,
   "id": "7ffd0880",
   "metadata": {},
   "outputs": [
    {
     "name": "stdout",
     "output_type": "stream",
     "text": [
      "[2, 4, 6, 8, 10, 12, 14, 16, 18, 20, 22, 24, 26, 28, 30, 32, 34, 36, 38, 40, 42, 44, 46, 48, 50, 52, 54, 56, 58, 60, 62, 64, 66, 68, 70, 72, 74, 76, 78, 80, 82, 84, 86, 88, 90, 92, 94, 96, 98, 100, 102, 104, 106, 108, 110, 112, 114, 116, 118, 120, 122, 124, 126, 128, 130, 132, 134, 136, 138, 140, 142, 144, 146, 148, 150, 152, 154, 156, 158, 160, 162, 164, 166, 168, 170, 172, 174, 176, 178, 180, 182, 184, 186, 188, 190, 192, 194, 196, 198]\n"
     ]
    }
   ],
   "source": [
    "lst = [i for i in range(1,200) if i%2==0]\n",
    "\n",
    "print(lst)"
   ]
  },
  {
   "cell_type": "code",
   "execution_count": 11,
   "id": "f53abdba",
   "metadata": {},
   "outputs": [
    {
     "name": "stdout",
     "output_type": "stream",
     "text": [
      "['M', 's', 'H', 't']\n"
     ]
    }
   ],
   "source": [
    "txt = ['Murali', 'sravanthi', 'Harshit', 'tanveer']\n",
    "\n",
    "lst = [i[0] for i in txt]\n",
    "\n",
    "print(lst)"
   ]
  },
  {
   "cell_type": "code",
   "execution_count": 19,
   "id": "838ad6e0",
   "metadata": {},
   "outputs": [
    {
     "name": "stdout",
     "output_type": "stream",
     "text": [
      "[('THE', 3), ('QUICK', 5), ('BROWN', 5), ('FOX', 3), ('JUMPS', 5), ('OVER', 4), ('THE', 3), ('LAZY', 4), ('DOG', 3)]\n"
     ]
    }
   ],
   "source": [
    "s = \"the quick brown fox jumps over the lazy dog\"\n",
    "\n",
    "\n",
    "lst = [(i.upper(), len(i)) for i in s.split(\" \") ]\n",
    "\n",
    "print(lst)"
   ]
  },
  {
   "cell_type": "code",
   "execution_count": 22,
   "id": "8971bc05",
   "metadata": {},
   "outputs": [
    {
     "data": {
      "text/plain": [
       "['OVER', 'LAZY']"
      ]
     },
     "execution_count": 22,
     "metadata": {},
     "output_type": "execute_result"
    }
   ],
   "source": [
    "lst = [word.upper() for word in s.split() if len(word)%2==0]\n",
    "\n",
    "lst"
   ]
  },
  {
   "cell_type": "markdown",
   "id": "21ce1a59",
   "metadata": {},
   "source": [
    "## Anonymous functions"
   ]
  },
  {
   "cell_type": "code",
   "execution_count": 23,
   "id": "fd72a790",
   "metadata": {},
   "outputs": [
    {
     "name": "stdout",
     "output_type": "stream",
     "text": [
      "1156\n"
     ]
    }
   ],
   "source": [
    "def square(a):\n",
    "    return a**2\n",
    "\n",
    "print(square(34))"
   ]
  },
  {
   "cell_type": "code",
   "execution_count": 25,
   "id": "2791f05a",
   "metadata": {},
   "outputs": [
    {
     "name": "stdout",
     "output_type": "stream",
     "text": [
      "36\n"
     ]
    }
   ],
   "source": [
    "lmd = lambda n : n**2\n",
    "\n",
    "print(lmd(6))"
   ]
  },
  {
   "cell_type": "code",
   "execution_count": 31,
   "id": "c18a78d0",
   "metadata": {},
   "outputs": [
    {
     "name": "stdout",
     "output_type": "stream",
     "text": [
      "60\n"
     ]
    }
   ],
   "source": [
    "## product of two numbers\n",
    "\n",
    "\n",
    "lmd = lambda a,b : a*b\n",
    "\n",
    "print(lmd(4,15))\n"
   ]
  },
  {
   "cell_type": "code",
   "execution_count": 34,
   "id": "9a8d1f04",
   "metadata": {},
   "outputs": [
    {
     "name": "stdout",
     "output_type": "stream",
     "text": [
      "16\n"
     ]
    }
   ],
   "source": [
    "## max of two numbers\n",
    "\n",
    "lmd = lambda a,b : a if(a>b) else b\n",
    "\n",
    "print(lmd(16,7))"
   ]
  },
  {
   "cell_type": "code",
   "execution_count": 36,
   "id": "ec0cecb9",
   "metadata": {},
   "outputs": [
    {
     "name": "stdout",
     "output_type": "stream",
     "text": [
      "14\n"
     ]
    }
   ],
   "source": [
    "lmd = lambda a : a**2 if a%2==0 else a*2\n",
    "\n",
    "print(lmd(7))"
   ]
  },
  {
   "cell_type": "code",
   "execution_count": 38,
   "id": "85baa100",
   "metadata": {},
   "outputs": [
    {
     "name": "stdout",
     "output_type": "stream",
     "text": [
      "{1: 1, 2: 4, 3: 9, 4: 16, 5: 25, 6: 36, 7: 49, 8: 64, 9: 81, 10: 100}\n"
     ]
    }
   ],
   "source": [
    "my_dic = {x:x**2 for x in range(1,11)}\n",
    "\n",
    "print(my_dic)"
   ]
  },
  {
   "cell_type": "code",
   "execution_count": 5,
   "id": "52c1df48",
   "metadata": {},
   "outputs": [
    {
     "name": "stdout",
     "output_type": "stream",
     "text": [
      "Enter a number: 8\n",
      "11111111\n",
      "2222222\n",
      "333333\n",
      "44444\n",
      "5555\n",
      "666\n",
      "77\n",
      "8\n"
     ]
    }
   ],
   "source": [
    "n = int(input(\"Enter a number: \"))\n",
    "\n",
    "for i in range(1,n+1):\n",
    "    print(str(i)*(n+1-i))"
   ]
  },
  {
   "cell_type": "code",
   "execution_count": 18,
   "id": "92863053",
   "metadata": {},
   "outputs": [
    {
     "name": "stdout",
     "output_type": "stream",
     "text": [
      "Enter a number: 28\n",
      "1\n",
      "2\n",
      "3\n",
      "4\n",
      "5\n",
      "6\n",
      "7\n",
      "8\n",
      "9\n",
      "10\n",
      "11\n",
      "12\n",
      "13\n",
      "14\n",
      "15\n",
      "16\n",
      "17\n",
      "18\n",
      "19\n",
      "20\n",
      "21\n",
      "22\n",
      "23\n",
      "24\n",
      "25\n",
      "26\n",
      "27\n",
      "[1, 2, 4, 7, 14]\n",
      "Given number is perfect\n"
     ]
    }
   ],
   "source": [
    "n = int(input(\"Enter a number: \"))\n",
    "temp = []\n",
    "for i in range(1,n):\n",
    "    print(i)\n",
    "    if(n%i == 0):\n",
    "        temp.append(i)\n",
    "print(temp)\n",
    "if(sum(temp)==n):\n",
    "    print(\"Given number is perfect\")\n",
    "else:\n",
    "    print(\"Given number is not perfect\")\n",
    "    "
   ]
  },
  {
   "cell_type": "code",
   "execution_count": null,
   "id": "64e5b91f",
   "metadata": {},
   "outputs": [],
   "source": []
  }
 ],
 "metadata": {
  "kernelspec": {
   "display_name": "Python 3 (ipykernel)",
   "language": "python",
   "name": "python3"
  },
  "language_info": {
   "codemirror_mode": {
    "name": "ipython",
    "version": 3
   },
   "file_extension": ".py",
   "mimetype": "text/x-python",
   "name": "python",
   "nbconvert_exporter": "python",
   "pygments_lexer": "ipython3",
   "version": "3.9.12"
  }
 },
 "nbformat": 4,
 "nbformat_minor": 5
}
