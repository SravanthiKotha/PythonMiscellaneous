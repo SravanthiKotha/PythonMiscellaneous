{
 "cells": [
  {
   "cell_type": "code",
   "execution_count": 19,
   "id": "33cfbce3",
   "metadata": {},
   "outputs": [],
   "source": [
    "class Animal:\n",
    "    name = \"\"\n",
    "    def __init__(self,name = \"Animal\"):\n",
    "        self.name = Animal.name\n",
    "        self.name = name\n",
    "    def sound(self):\n",
    "        print(\"I am a animal!!!\")\n",
    "    def myM(self):\n",
    "        print(\"I am in Animal\")\n",
    "        \n",
    "class Dog(Animal):\n",
    "    def __init__(self):\n",
    "        self.name = Animal.name\n",
    "    def sound(self):\n",
    "        print(\"I am dog and will sound like BOW BOW!!!\")\n",
    "        \n",
    "    def myM1(self):\n",
    "        super\n",
    "        \n"
   ]
  },
  {
   "cell_type": "code",
   "execution_count": 20,
   "id": "d65bc1a2",
   "metadata": {},
   "outputs": [
    {
     "name": "stdout",
     "output_type": "stream",
     "text": [
      "Animal\n",
      "I am a animal!!!\n",
      "Tiger\n"
     ]
    }
   ],
   "source": [
    "a = Animal()\n",
    "print(a.name)\n",
    "a.sound()\n",
    "a = Animal(\"Tiger\")\n",
    "print(a.name)"
   ]
  },
  {
   "cell_type": "code",
   "execution_count": 23,
   "id": "80fa3669",
   "metadata": {},
   "outputs": [
    {
     "ename": "TypeError",
     "evalue": "__init__() takes 1 positional argument but 2 were given",
     "output_type": "error",
     "traceback": [
      "\u001b[1;31m---------------------------------------------------------------------------\u001b[0m",
      "\u001b[1;31mTypeError\u001b[0m                                 Traceback (most recent call last)",
      "Input \u001b[1;32mIn [23]\u001b[0m, in \u001b[0;36m<cell line: 1>\u001b[1;34m()\u001b[0m\n\u001b[1;32m----> 1\u001b[0m a \u001b[38;5;241m=\u001b[39m \u001b[43mDog\u001b[49m\u001b[43m(\u001b[49m\u001b[38;5;124;43m\"\u001b[39;49m\u001b[38;5;124;43mdd\u001b[39;49m\u001b[38;5;124;43m\"\u001b[39;49m\u001b[43m)\u001b[49m\n\u001b[0;32m      2\u001b[0m \u001b[38;5;28mprint\u001b[39m(a\u001b[38;5;241m.\u001b[39mname)\n\u001b[0;32m      3\u001b[0m a\u001b[38;5;241m.\u001b[39msound()\n",
      "\u001b[1;31mTypeError\u001b[0m: __init__() takes 1 positional argument but 2 were given"
     ]
    }
   ],
   "source": [
    "a = Dog()\n",
    "print(a.name)\n",
    "a.sound()"
   ]
  },
  {
   "cell_type": "code",
   "execution_count": null,
   "id": "88cdee60",
   "metadata": {},
   "outputs": [],
   "source": []
  }
 ],
 "metadata": {
  "kernelspec": {
   "display_name": "Python 3 (ipykernel)",
   "language": "python",
   "name": "python3"
  },
  "language_info": {
   "codemirror_mode": {
    "name": "ipython",
    "version": 3
   },
   "file_extension": ".py",
   "mimetype": "text/x-python",
   "name": "python",
   "nbconvert_exporter": "python",
   "pygments_lexer": "ipython3",
   "version": "3.9.12"
  }
 },
 "nbformat": 4,
 "nbformat_minor": 5
}
