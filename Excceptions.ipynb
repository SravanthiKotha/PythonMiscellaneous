{
 "cells": [
  {
   "cell_type": "code",
   "execution_count": 2,
   "id": "8c559351",
   "metadata": {},
   "outputs": [
    {
     "name": "stdout",
     "output_type": "stream",
     "text": [
      "(<class 'ZeroDivisionError'>, ZeroDivisionError('division by zero'), <traceback object at 0x0000013C05294FC0>)\n"
     ]
    }
   ],
   "source": [
    "import sys\n",
    "a,b=4,0\n",
    "try:\n",
    "    a/b\n",
    "except:\n",
    "    print(sys.exc_info())"
   ]
  },
  {
   "cell_type": "code",
   "execution_count": 9,
   "id": "5c14a580",
   "metadata": {},
   "outputs": [
    {
     "name": "stdout",
     "output_type": "stream",
     "text": [
      "Enter a number: 0\n",
      "(<class 'ZeroDivisionError'>, ZeroDivisionError('division by zero'), <traceback object at 0x0000013C05299AC0>)\n"
     ]
    }
   ],
   "source": [
    "import sys\n",
    "a,b=4,input(\"Enter a number: \")\n",
    "try:\n",
    "    c= a/int(b)\n",
    "    print(c)\n",
    "except:\n",
    "    print(sys.exc_info())"
   ]
  },
  {
   "cell_type": "code",
   "execution_count": 15,
   "id": "a7218e70",
   "metadata": {},
   "outputs": [
    {
     "name": "stdout",
     "output_type": "stream",
     "text": [
      "Enter a number: i\n",
      "you have provided a non-int value\n"
     ]
    }
   ],
   "source": [
    "import sys\n",
    "a,b=4,input(\"Enter a number: \")\n",
    "try:\n",
    "    c= a/int(b)\n",
    "    print(c)\n",
    "except(ValueError):\n",
    "    print(\"you have provided a non-int value\")\n",
    "except(ZeroDivisionError):\n",
    "    print(\"you have choosen zero, which causes a ZeroDivisionError\")\n",
    "except():\n",
    "    print(\"Exception has occured!!!!\")\n",
    "    "
   ]
  },
  {
   "cell_type": "code",
   "execution_count": 24,
   "id": "930d596c",
   "metadata": {},
   "outputs": [
    {
     "name": "stdout",
     "output_type": "stream",
     "text": [
      "Enter a number greater than zero: 7\n",
      "0.5714285714285714\n"
     ]
    }
   ],
   "source": [
    "import sys\n",
    "a,b=4,input(\"Enter a number greater than zero: \")\n",
    "\n",
    "if int(b)<0:\n",
    "    raise ValueError(\"you have entered a negative value!!\")\n",
    "else:\n",
    "    c= a/int(b)\n",
    "    print(c)"
   ]
  },
  {
   "cell_type": "code",
   "execution_count": 47,
   "id": "9d7dcb09",
   "metadata": {},
   "outputs": [],
   "source": [
    "def divide(a,b):\n",
    "    try:\n",
    "        result = a/b\n",
    "    except ZeroDivisionError:\n",
    "        print(\"You are trying to divided with Zero!!!\")\n",
    "    except NameError:\n",
    "        print(\"Exception occured!!!\")\n",
    "    else:\n",
    "        print(\"Division of given two numbers is: \",result)"
   ]
  },
  {
   "cell_type": "code",
   "execution_count": 54,
   "id": "3c62e6d4",
   "metadata": {},
   "outputs": [
    {
     "name": "stdout",
     "output_type": "stream",
     "text": [
      "You are trying to divided with Zero!!!\n"
     ]
    }
   ],
   "source": [
    "try:\n",
    "    divide(4,0)\n",
    "except NameError:\n",
    "    print(\"Pass valid values!!\")\n",
    "except TypeError:\n",
    "    print(\"Pass 2 values!!!\")"
   ]
  },
  {
   "cell_type": "code",
   "execution_count": null,
   "id": "9984ac11",
   "metadata": {},
   "outputs": [],
   "source": []
  }
 ],
 "metadata": {
  "kernelspec": {
   "display_name": "Python 3 (ipykernel)",
   "language": "python",
   "name": "python3"
  },
  "language_info": {
   "codemirror_mode": {
    "name": "ipython",
    "version": 3
   },
   "file_extension": ".py",
   "mimetype": "text/x-python",
   "name": "python",
   "nbconvert_exporter": "python",
   "pygments_lexer": "ipython3",
   "version": "3.9.12"
  }
 },
 "nbformat": 4,
 "nbformat_minor": 5
}
