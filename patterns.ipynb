{
 "cells": [
  {
   "cell_type": "code",
   "execution_count": 1,
   "id": "aab8a72e",
   "metadata": {},
   "outputs": [
    {
     "name": "stdout",
     "output_type": "stream",
     "text": [
      "enter no. of rows: 5\n"
     ]
    }
   ],
   "source": [
    "rows = int(input(\"enter no. of rows: \").strip())"
   ]
  },
  {
   "cell_type": "code",
   "execution_count": 18,
   "id": "b854b4b9",
   "metadata": {},
   "outputs": [
    {
     "name": "stdout",
     "output_type": "stream",
     "text": [
      "1 \n",
      "2 2 \n",
      "3 3 3 \n",
      "4 4 4 4 \n"
     ]
    }
   ],
   "source": [
    "for num in range(1,rows+1):\n",
    "    print((str(num)+\" \")*num)\n"
   ]
  },
  {
   "cell_type": "code",
   "execution_count": 11,
   "id": "3c26b0c7",
   "metadata": {},
   "outputs": [
    {
     "name": "stdout",
     "output_type": "stream",
     "text": [
      "enter no. of rows: 10\n",
      "* \n",
      "* * \n",
      "* * * \n",
      "* * * * \n",
      "* * * * * \n",
      "* * * * * * \n",
      "* * * * * * * \n",
      "* * * * * * * * \n",
      "* * * * * * * * * \n",
      "* * * * * * * * * * \n"
     ]
    }
   ],
   "source": [
    "rows = int(input(\"enter no. of rows: \").strip())\n",
    "\n",
    "for num in range(1,rows+1):\n",
    "    for i in range(num):\n",
    "        print(\"*\",end = \" \")\n",
    "    print()"
   ]
  },
  {
   "cell_type": "code",
   "execution_count": 13,
   "id": "ccdd8b79",
   "metadata": {},
   "outputs": [
    {
     "name": "stdout",
     "output_type": "stream",
     "text": [
      "[10, 8, 6, 4, 2]\n"
     ]
    }
   ],
   "source": [
    "print(list(range(10,0,-2)))"
   ]
  },
  {
   "cell_type": "code",
   "execution_count": 15,
   "id": "857a4073",
   "metadata": {},
   "outputs": [
    {
     "name": "stdout",
     "output_type": "stream",
     "text": [
      "enter no. of rows: 4\n",
      "1 \n",
      "2 2 \n",
      "3 3 3 \n",
      "4 4 4 4 \n"
     ]
    }
   ],
   "source": [
    "rows = int(input(\"enter no. of rows: \").strip())\n",
    "\n",
    "for num in range(1,rows+1):\n",
    "    for i in range(num):\n",
    "        print(num,end = \" \")\n",
    "    print()"
   ]
  },
  {
   "cell_type": "code",
   "execution_count": 58,
   "id": "37d52de6",
   "metadata": {},
   "outputs": [
    {
     "name": "stdout",
     "output_type": "stream",
     "text": [
      "enter no. of rows: 5\n",
      "1 \n",
      "2 3 \n",
      "3 4 5 \n",
      "4 5 6 7 \n",
      "5 6 7 8 9 \n"
     ]
    }
   ],
   "source": [
    "rows = int(input(\"enter no. of rows: \").strip())\n",
    "\n",
    "for num in range(1,rows+1):\n",
    "    for i in range(num):\n",
    "        print(num+i,end=\" \")\n",
    "    print()\n",
    "   "
   ]
  },
  {
   "cell_type": "code",
   "execution_count": 81,
   "id": "c83f7cb3",
   "metadata": {},
   "outputs": [
    {
     "name": "stdout",
     "output_type": "stream",
     "text": [
      "enter no. of rows: 8\n",
      "1 \n",
      "2 3 \n",
      "4 5 6 \n",
      "7 8 9 10 \n",
      "11 12 13 14 15 \n",
      "16 17 18 19 20 21 \n",
      "22 23 24 25 26 27 28 \n",
      "29 30 31 32 33 34 35 36 \n"
     ]
    }
   ],
   "source": [
    "rows = int(input(\"enter no. of rows: \").strip())\n",
    "temp=1\n",
    "for num in range(1,rows+1):\n",
    "    for i in range(num):\n",
    "        print(temp,end=\" \")\n",
    "        temp=temp+1\n",
    "    print()\n",
    "    "
   ]
  },
  {
   "cell_type": "code",
   "execution_count": 85,
   "id": "a83bff68",
   "metadata": {},
   "outputs": [
    {
     "name": "stdout",
     "output_type": "stream",
     "text": [
      "enter no. of rows: 4\n",
      "1 \n",
      "2 3 \n",
      "4 5 6 \n",
      "7 8 9 10 \n"
     ]
    }
   ],
   "source": [
    "rows = int(input(\"enter no. of rows: \").strip())\n",
    "temp=1\n",
    "for num in range(1,rows+1):\n",
    "    for i in range(num):\n",
    "        print(temp,end = \" \")\n",
    "        temp = temp+1\n",
    "    print()"
   ]
  },
  {
   "cell_type": "code",
   "execution_count": 95,
   "id": "a196639b",
   "metadata": {},
   "outputs": [
    {
     "name": "stdout",
     "output_type": "stream",
     "text": [
      "enter no. of rows: 4\n",
      "* * * * \n",
      "* * * \n",
      "* * \n",
      "* \n"
     ]
    }
   ],
   "source": [
    "rows = int(input(\"enter no. of rows: \").strip())\n",
    "\n",
    "for num in range(rows,0,-1):\n",
    "    for i in range(num):\n",
    "        print(\"*\",end = \" \")\n",
    "    print()"
   ]
  },
  {
   "cell_type": "code",
   "execution_count": 19,
   "id": "e1b542f5",
   "metadata": {},
   "outputs": [
    {
     "name": "stdout",
     "output_type": "stream",
     "text": [
      "enter no. of rows: 3\n",
      "      * \n",
      "    * * * \n",
      "  * * * * * \n"
     ]
    }
   ],
   "source": [
    "rows = int(input(\"enter no. of rows: \").strip())\n",
    "temp=1\n",
    "for num in range(1,rows+1):\n",
    "    for j in range(num,rows+1):\n",
    "        print(\" \",end=\" \")\n",
    "    for i in range(temp):\n",
    "        print(\"*\",end = \" \")\n",
    "    temp = temp+2\n",
    "    print()"
   ]
  },
  {
   "cell_type": "code",
   "execution_count": 7,
   "id": "c87844db",
   "metadata": {},
   "outputs": [
    {
     "name": "stdout",
     "output_type": "stream",
     "text": [
      "Enter a number: 9\n",
      "Given number 9 is not a Prime:\n"
     ]
    }
   ],
   "source": [
    "########### prime number finding\n",
    "\n",
    "\n",
    "num = int(input(\"Enter a number: \").strip())\n",
    "\n",
    "for i in range(2,num):\n",
    "    if num%i == 0:\n",
    "        flag = True\n",
    "        break\n",
    "    else:\n",
    "        flag = False\n",
    "        \n",
    "if(flag):\n",
    "    print(\"Given number %s is not a Prime:\"%num)\n",
    "else:\n",
    "    print(\"Given number %s is a Prime:\"%num)"
   ]
  },
  {
   "cell_type": "code",
   "execution_count": 18,
   "id": "f15df646",
   "metadata": {},
   "outputs": [
    {
     "name": "stdout",
     "output_type": "stream",
     "text": [
      "15\n"
     ]
    }
   ],
   "source": [
    "n1,n2 = 5,15\n",
    "\n",
    "print(n1|n2)\n"
   ]
  },
  {
   "cell_type": "code",
   "execution_count": null,
   "id": "209418b5",
   "metadata": {},
   "outputs": [],
   "source": []
  }
 ],
 "metadata": {
  "kernelspec": {
   "display_name": "Python 3 (ipykernel)",
   "language": "python",
   "name": "python3"
  },
  "language_info": {
   "codemirror_mode": {
    "name": "ipython",
    "version": 3
   },
   "file_extension": ".py",
   "mimetype": "text/x-python",
   "name": "python",
   "nbconvert_exporter": "python",
   "pygments_lexer": "ipython3",
   "version": "3.9.12"
  }
 },
 "nbformat": 4,
 "nbformat_minor": 5
}
